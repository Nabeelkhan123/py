{
  "nbformat": 4,
  "nbformat_minor": 0,
  "metadata": {
    "colab": {
      "name": "Titanic_survival.ipynb",
      "version": "0.3.2",
      "provenance": [],
      "collapsed_sections": [],
      "include_colab_link": true
    },
    "kernelspec": {
      "name": "python3",
      "display_name": "Python 3"
    }
  },
  "cells": [
    {
      "cell_type": "markdown",
      "metadata": {
        "id": "view-in-github",
        "colab_type": "text"
      },
      "source": [
        "<a href=\"https://colab.research.google.com/github/Nabeelkhan123/py/blob/master/Titanic_survival.ipynb\" target=\"_parent\"><img src=\"https://colab.research.google.com/assets/colab-badge.svg\" alt=\"Open In Colab\"/></a>"
      ]
    },
    {
      "cell_type": "code",
      "metadata": {
        "id": "AUbG5GRIyvy2",
        "colab_type": "code",
        "outputId": "975a309a-9042-4360-b09b-f7b4f2845210",
        "colab": {
          "base_uri": "https://localhost:8080/",
          "height": 255
        }
      },
      "source": [
        "import pandas as pd\n",
        "import numpy as np\n",
        "\n",
        "df=pd.read_csv('train.csv')\n",
        "df.head()"
      ],
      "execution_count": 0,
      "outputs": [
        {
          "output_type": "execute_result",
          "data": {
            "text/html": [
              "<div>\n",
              "<style scoped>\n",
              "    .dataframe tbody tr th:only-of-type {\n",
              "        vertical-align: middle;\n",
              "    }\n",
              "\n",
              "    .dataframe tbody tr th {\n",
              "        vertical-align: top;\n",
              "    }\n",
              "\n",
              "    .dataframe thead th {\n",
              "        text-align: right;\n",
              "    }\n",
              "</style>\n",
              "<table border=\"1\" class=\"dataframe\">\n",
              "  <thead>\n",
              "    <tr style=\"text-align: right;\">\n",
              "      <th></th>\n",
              "      <th>PassengerId</th>\n",
              "      <th>Survived</th>\n",
              "      <th>Pclass</th>\n",
              "      <th>Name</th>\n",
              "      <th>Sex</th>\n",
              "      <th>Age</th>\n",
              "      <th>SibSp</th>\n",
              "      <th>Parch</th>\n",
              "      <th>Ticket</th>\n",
              "      <th>Fare</th>\n",
              "      <th>Cabin</th>\n",
              "      <th>Embarked</th>\n",
              "    </tr>\n",
              "  </thead>\n",
              "  <tbody>\n",
              "    <tr>\n",
              "      <th>0</th>\n",
              "      <td>1</td>\n",
              "      <td>0</td>\n",
              "      <td>3</td>\n",
              "      <td>Braund, Mr. Owen Harris</td>\n",
              "      <td>male</td>\n",
              "      <td>22.0</td>\n",
              "      <td>1</td>\n",
              "      <td>0</td>\n",
              "      <td>A/5 21171</td>\n",
              "      <td>7.2500</td>\n",
              "      <td>NaN</td>\n",
              "      <td>S</td>\n",
              "    </tr>\n",
              "    <tr>\n",
              "      <th>1</th>\n",
              "      <td>2</td>\n",
              "      <td>1</td>\n",
              "      <td>1</td>\n",
              "      <td>Cumings, Mrs. John Bradley (Florence Briggs Th...</td>\n",
              "      <td>female</td>\n",
              "      <td>38.0</td>\n",
              "      <td>1</td>\n",
              "      <td>0</td>\n",
              "      <td>PC 17599</td>\n",
              "      <td>71.2833</td>\n",
              "      <td>C85</td>\n",
              "      <td>C</td>\n",
              "    </tr>\n",
              "    <tr>\n",
              "      <th>2</th>\n",
              "      <td>3</td>\n",
              "      <td>1</td>\n",
              "      <td>3</td>\n",
              "      <td>Heikkinen, Miss. Laina</td>\n",
              "      <td>female</td>\n",
              "      <td>26.0</td>\n",
              "      <td>0</td>\n",
              "      <td>0</td>\n",
              "      <td>STON/O2. 3101282</td>\n",
              "      <td>7.9250</td>\n",
              "      <td>NaN</td>\n",
              "      <td>S</td>\n",
              "    </tr>\n",
              "    <tr>\n",
              "      <th>3</th>\n",
              "      <td>4</td>\n",
              "      <td>1</td>\n",
              "      <td>1</td>\n",
              "      <td>Futrelle, Mrs. Jacques Heath (Lily May Peel)</td>\n",
              "      <td>female</td>\n",
              "      <td>35.0</td>\n",
              "      <td>1</td>\n",
              "      <td>0</td>\n",
              "      <td>113803</td>\n",
              "      <td>53.1000</td>\n",
              "      <td>C123</td>\n",
              "      <td>S</td>\n",
              "    </tr>\n",
              "    <tr>\n",
              "      <th>4</th>\n",
              "      <td>5</td>\n",
              "      <td>0</td>\n",
              "      <td>3</td>\n",
              "      <td>Allen, Mr. William Henry</td>\n",
              "      <td>male</td>\n",
              "      <td>35.0</td>\n",
              "      <td>0</td>\n",
              "      <td>0</td>\n",
              "      <td>373450</td>\n",
              "      <td>8.0500</td>\n",
              "      <td>NaN</td>\n",
              "      <td>S</td>\n",
              "    </tr>\n",
              "  </tbody>\n",
              "</table>\n",
              "</div>"
            ],
            "text/plain": [
              "   PassengerId  Survived  Pclass  ...     Fare Cabin  Embarked\n",
              "0            1         0       3  ...   7.2500   NaN         S\n",
              "1            2         1       1  ...  71.2833   C85         C\n",
              "2            3         1       3  ...   7.9250   NaN         S\n",
              "3            4         1       1  ...  53.1000  C123         S\n",
              "4            5         0       3  ...   8.0500   NaN         S\n",
              "\n",
              "[5 rows x 12 columns]"
            ]
          },
          "metadata": {
            "tags": []
          },
          "execution_count": 3
        }
      ]
    },
    {
      "cell_type": "markdown",
      "metadata": {
        "id": "fX9rpkk42nmf",
        "colab_type": "text"
      },
      "source": [
        "We're going to predict whether a passenger survived or not.\n",
        "\n",
        "---\n",
        "\n",
        "\n",
        "Here, Survived will be target column"
      ]
    },
    {
      "cell_type": "code",
      "metadata": {
        "id": "mlviqrZL2ay_",
        "colab_type": "code",
        "colab": {}
      },
      "source": [
        "column_target = ['Survived']"
      ],
      "execution_count": 0,
      "outputs": []
    },
    {
      "cell_type": "markdown",
      "metadata": {
        "id": "-m6SKlOW303v",
        "colab_type": "text"
      },
      "source": [
        "Parameters to be used for prediction:- Age, Sex,Pclass and Fare"
      ]
    },
    {
      "cell_type": "code",
      "metadata": {
        "id": "fhuyPuhe2a5I",
        "colab_type": "code",
        "colab": {}
      },
      "source": [
        "column_train = ['Age','Pclass','Sex','Fare']"
      ],
      "execution_count": 0,
      "outputs": []
    },
    {
      "cell_type": "markdown",
      "metadata": {
        "id": "e5PrG9eV4T_u",
        "colab_type": "text"
      },
      "source": [
        "Separating the data into 'x' and 'y'"
      ]
    },
    {
      "cell_type": "code",
      "metadata": {
        "id": "ALf9XNtz2a_A",
        "colab_type": "code",
        "colab": {}
      },
      "source": [
        "x = [column_train]\n",
        "y = [column_target]"
      ],
      "execution_count": 0,
      "outputs": []
    },
    {
      "cell_type": "markdown",
      "metadata": {
        "id": "Hkqg7b016E45",
        "colab_type": "text"
      },
      "source": [
        "x['Age'].isnull().sum()  gives 177\n",
        "      i.e  there 177 null values in Age    . Remove them using Median function\n"
      ]
    },
    {
      "cell_type": "code",
      "metadata": {
        "id": "azbEsidKqxeI",
        "colab_type": "code",
        "colab": {}
      },
      "source": [
        "x['Age'].isnull().sum()"
      ],
      "execution_count": 0,
      "outputs": []
    },
    {
      "cell_type": "code",
      "metadata": {
        "id": "3EZo2qrGrV8s",
        "colab_type": "code",
        "colab": {}
      },
      "source": [
        "x['Age']=x['Age'].fillna(x['Age'].median())"
      ],
      "execution_count": 0,
      "outputs": []
    },
    {
      "cell_type": "code",
      "metadata": {
        "id": "-QfFfZITqxlQ",
        "colab_type": "code",
        "colab": {}
      },
      "source": [
        "x['Age'].isnull().sum()"
      ],
      "execution_count": 0,
      "outputs": []
    },
    {
      "cell_type": "markdown",
      "metadata": {
        "id": "gM4ikH-9ryJF",
        "colab_type": "text"
      },
      "source": [
        "In sklearn, we can't pass string values as categorical variable"
      ]
    },
    {
      "cell_type": "markdown",
      "metadata": {
        "id": "iayGmwffrzdb",
        "colab_type": "text"
      },
      "source": [
        "  Here feature 'Sex' has a categorical value, i.e either M or F(which is not compatible with sklearn)"
      ]
    },
    {
      "cell_type": "markdown",
      "metadata": {
        "id": "xu-g83yssK2P",
        "colab_type": "text"
      },
      "source": [
        "Hence we convert these values to integer, with Male as 0 and Female as 1"
      ]
    },
    {
      "cell_type": "code",
      "metadata": {
        "id": "mY3jQD9GsSvL",
        "colab_type": "code",
        "colab": {}
      },
      "source": [
        "d = {'male':0, 'female':1}"
      ],
      "execution_count": 0,
      "outputs": []
    },
    {
      "cell_type": "code",
      "metadata": {
        "id": "z1Y1WxF8qxrh",
        "colab_type": "code",
        "colab": {}
      },
      "source": [
        "x['Sex']=x['Sex'].apply(lambda x:d[x])\n",
        "x.head()"
      ],
      "execution_count": 0,
      "outputs": []
    },
    {
      "cell_type": "markdown",
      "metadata": {
        "id": "81-B5uKNtZt5",
        "colab_type": "text"
      },
      "source": [
        "Splitting the data to train and test"
      ]
    },
    {
      "cell_type": "code",
      "metadata": {
        "id": "xlFmk0w_tKnG",
        "colab_type": "code",
        "colab": {}
      },
      "source": [
        "from sklearn.model_selection import train_test_split\n",
        "x_train,x_test,y_train,y_test = train_test_split(x,y,test_size=0.33,random state=42)"
      ],
      "execution_count": 0,
      "outputs": []
    },
    {
      "cell_type": "markdown",
      "metadata": {
        "id": "CAYx2bmPuSC-",
        "colab_type": "text"
      },
      "source": [
        "Using Linear Support Vector Machine to separate the data linearly"
      ]
    },
    {
      "cell_type": "code",
      "metadata": {
        "id": "z36HMO8qtKp1",
        "colab_type": "code",
        "colab": {}
      },
      "source": [
        "from sklearn import svm\n",
        "clf = svm.LinearSVC()"
      ],
      "execution_count": 0,
      "outputs": []
    },
    {
      "cell_type": "markdown",
      "metadata": {
        "id": "9fyhge5GwDdw",
        "colab_type": "text"
      },
      "source": [
        "Training the model"
      ]
    },
    {
      "cell_type": "code",
      "metadata": {
        "id": "8AqAU03lwG8o",
        "colab_type": "code",
        "colab": {}
      },
      "source": [
        "clf.fit(x_train,y_train)"
      ],
      "execution_count": 0,
      "outputs": []
    },
    {
      "cell_type": "code",
      "metadata": {
        "id": "QgNW_spMwHL0",
        "colab_type": "code",
        "colab": {}
      },
      "source": [
        "clf.predict(x_test[0:1])"
      ],
      "execution_count": 0,
      "outputs": []
    },
    {
      "cell_type": "code",
      "metadata": {
        "id": "kQ44SRkcwHP6",
        "colab_type": "code",
        "colab": {}
      },
      "source": [
        "clf.predict(x_test[0:10])"
      ],
      "execution_count": 0,
      "outputs": []
    },
    {
      "cell_type": "code",
      "metadata": {
        "id": "1jiwpZkgww8d",
        "colab_type": "code",
        "colab": {}
      },
      "source": [
        "clf.score(x_test,y_test)"
      ],
      "execution_count": 0,
      "outputs": []
    }
  ]
}